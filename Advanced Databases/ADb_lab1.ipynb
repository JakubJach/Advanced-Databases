{
 "cells": [
  {
   "cell_type": "markdown",
   "metadata": {},
   "source": [
    "Jakub Jachowicz<br>\n",
    "Lab1"
   ]
  },
  {
   "cell_type": "markdown",
   "metadata": {},
   "source": [
    "EXERCISE 1"
   ]
  },
  {
   "cell_type": "code",
   "execution_count": 1,
   "metadata": {},
   "outputs": [],
   "source": [
    "import math"
   ]
  },
  {
   "cell_type": "code",
   "execution_count": 2,
   "metadata": {},
   "outputs": [],
   "source": [
    "k = 1240*math.sqrt(7)\n",
    "m = 4467\n",
    "l = 2j\n",
    "d = k + m\n",
    "c = d + l"
   ]
  },
  {
   "cell_type": "markdown",
   "metadata": {},
   "source": [
    "EXERCISE 2"
   ]
  },
  {
   "cell_type": "code",
   "execution_count": 3,
   "metadata": {},
   "outputs": [
    {
     "name": "stdout",
     "output_type": "stream",
     "text": [
      "7747.731625720093\n",
      "7747.732\n",
      "7747.73162572009277937468\n"
     ]
    }
   ],
   "source": [
    "print(d)\n",
    "print('%.3f' % d)\n",
    "print('%.20f' % d)"
   ]
  },
  {
   "cell_type": "markdown",
   "metadata": {},
   "source": [
    "EXERCISE 3"
   ]
  },
  {
   "cell_type": "code",
   "execution_count": 4,
   "metadata": {},
   "outputs": [],
   "source": [
    "r = 17\n",
    "h = 33\n",
    "S = 2*math.pi*r*(r+h)"
   ]
  },
  {
   "cell_type": "markdown",
   "metadata": {},
   "source": [
    "EXERCISE 4"
   ]
  },
  {
   "cell_type": "markdown",
   "metadata": {},
   "source": [
    "\n",
    "<br>\n",
    "Multiline comment<br>\n"
   ]
  },
  {
   "cell_type": "markdown",
   "metadata": {},
   "source": [
    "Line comment"
   ]
  },
  {
   "cell_type": "markdown",
   "metadata": {},
   "source": [
    "EXERCISE 5"
   ]
  },
  {
   "cell_type": "code",
   "execution_count": 5,
   "metadata": {},
   "outputs": [],
   "source": [
    "x1 = 7\n",
    "t = 13\n",
    "B = (x1+r)/(r*math.sin(2*x1)+3.3456)*x1**(t*r)"
   ]
  },
  {
   "cell_type": "code",
   "execution_count": 6,
   "metadata": {},
   "outputs": [
    {
     "name": "stdout",
     "output_type": "stream",
     "text": [
      "\n",
      "B equals 6947513967008685656259770769075258087952494218741014173495272724343698896296059196204189826371135416312834940309165787428075199653557864873011556283213786015522872414207828446700042715136\n",
      "\n"
     ]
    }
   ],
   "source": [
    "print('\\nB equals %d\\n' % B)"
   ]
  },
  {
   "cell_type": "markdown",
   "metadata": {},
   "source": [
    "EXERCISE 6.1"
   ]
  },
  {
   "cell_type": "code",
   "execution_count": 7,
   "metadata": {},
   "outputs": [],
   "source": [
    "import numpy as np"
   ]
  },
  {
   "cell_type": "code",
   "execution_count": 8,
   "metadata": {},
   "outputs": [],
   "source": [
    "a = math.sqrt(2)\n",
    "M = np.array([[a, 1, -a],[0, 1, 1], [-a, a, 1]])"
   ]
  },
  {
   "cell_type": "code",
   "execution_count": 9,
   "metadata": {},
   "outputs": [],
   "source": [
    "Minv = np.linalg.inv(M)\n",
    "Mdet = np.linalg.det(M)\n",
    "Mt = M.T"
   ]
  },
  {
   "cell_type": "markdown",
   "metadata": {},
   "source": [
    "EXERCISE 6.2"
   ]
  },
  {
   "cell_type": "code",
   "execution_count": 10,
   "metadata": {},
   "outputs": [
    {
     "name": "stdout",
     "output_type": "stream",
     "text": [
      "M(1,1) = 1.414214\n",
      "M(3,3) = 1.000000\n",
      "M(3,2) = 1.414214\n"
     ]
    }
   ],
   "source": [
    "print('M(1,1) = %f' % M[0,0])\n",
    "print('M(3,3) = %f' % M[2,2])\n",
    "print('M(3,2) = %f' % M[2,1])"
   ]
  },
  {
   "cell_type": "code",
   "execution_count": 11,
   "metadata": {},
   "outputs": [],
   "source": [
    "w1 = M[:,2]\n",
    "w2 = M[1,:]"
   ]
  },
  {
   "cell_type": "markdown",
   "metadata": {},
   "source": [
    "EXERCISE 7"
   ]
  },
  {
   "cell_type": "code",
   "execution_count": 12,
   "metadata": {},
   "outputs": [],
   "source": [
    "root_vector = np.roots([1,-7,-3,-43,-28,-60])"
   ]
  },
  {
   "cell_type": "code",
   "execution_count": 13,
   "metadata": {},
   "outputs": [
    {
     "name": "stdout",
     "output_type": "stream",
     "text": [
      "\n",
      "Roots are [ 8.09382888e+00+0.j         -4.99600361e-16+2.j\n",
      " -4.99600361e-16-2.j         -5.46914441e-01+1.24665488j\n",
      " -5.46914441e-01-1.24665488j]\n",
      "\n"
     ]
    }
   ],
   "source": [
    "print('\\nRoots are %s\\n' % root_vector)"
   ]
  },
  {
   "cell_type": "markdown",
   "metadata": {},
   "source": [
    "EXERCISE 8"
   ]
  },
  {
   "cell_type": "code",
   "execution_count": 14,
   "metadata": {},
   "outputs": [],
   "source": [
    "string_ar = np.arange(3.5,7.5,2)\n",
    "string_lin= np.linspace(3.5,7.5,2)"
   ]
  },
  {
   "cell_type": "code",
   "execution_count": 15,
   "metadata": {},
   "outputs": [
    {
     "name": "stdout",
     "output_type": "stream",
     "text": [
      "Vector created using arrange: [3.5 5.5]\n",
      "Vector created using linspace: [3.5 7.5]\n"
     ]
    }
   ],
   "source": [
    "print('Vector created using arrange: %s' % string_ar)\n",
    "print('Vector created using linspace: %s' % string_lin)"
   ]
  },
  {
   "cell_type": "markdown",
   "metadata": {},
   "source": [
    "EXERCISE 9"
   ]
  },
  {
   "cell_type": "code",
   "execution_count": 16,
   "metadata": {},
   "outputs": [],
   "source": [
    "def fun1(x):\n",
    "    return x**3-3*x"
   ]
  },
  {
   "cell_type": "code",
   "execution_count": 17,
   "metadata": {},
   "outputs": [],
   "source": [
    "import matplotlib.pyplot as plt"
   ]
  },
  {
   "cell_type": "markdown",
   "metadata": {},
   "source": [
    "Chart 1"
   ]
  },
  {
   "cell_type": "code",
   "execution_count": 18,
   "metadata": {},
   "outputs": [
    {
     "data": {
      "image/png": "[encoded data removed]",
      "text/plain": [
       "<Figure size 432x288 with 1 Axes>"
      ]
     },
     "metadata": {
      "needs_background": "light"
     },
     "output_type": "display_data"
    }
   ],
   "source": [
    "x = np.linspace(-1,1)\n",
    "y = fun1(x)\n",
    "plt.plot(x,y)\n",
    "plt.xlim(-1,1)\n",
    "plt.title('Chart 1')\n",
    "plt.legend(['Result'])\n",
    "plt.xlabel('x')\n",
    "plt.ylabel('y')\n",
    "plt.grid(linestyle = '-')\n",
    "plt.show()"
   ]
  },
  {
   "cell_type": "markdown",
   "metadata": {},
   "source": [
    "Chart 2"
   ]
  },
  {
   "cell_type": "code",
   "execution_count": 19,
   "metadata": {},
   "outputs": [
    {
     "data": {
      "image/png": "[encoded data removed]",
      "text/plain": [
       "<Figure size 432x288 with 1 Axes>"
      ]
     },
     "metadata": {
      "needs_background": "light"
     },
     "output_type": "display_data"
    }
   ],
   "source": [
    "x = np.linspace(-5,5)\n",
    "y = fun1(x)\n",
    "plt.plot(x,y)\n",
    "plt.xlim(-5,5)\n",
    "plt.title('Chart 2')\n",
    "plt.legend(['Result'])\n",
    "plt.xlabel('x')\n",
    "plt.ylabel('y')\n",
    "plt.grid(linestyle = '-')\n",
    "plt.show()"
   ]
  },
  {
   "cell_type": "markdown",
   "metadata": {},
   "source": [
    "Chart 3"
   ]
  },
  {
   "cell_type": "code",
   "execution_count": 20,
   "metadata": {},
   "outputs": [
    {
     "data": {
      "image/png": "[encoded data removed]",
      "text/plain": [
       "<Figure size 432x288 with 1 Axes>"
      ]
     },
     "metadata": {
      "needs_background": "light"
     },
     "output_type": "display_data"
    }
   ],
   "source": [
    "x = np.linspace(0,5)\n",
    "y = fun1(x)\n",
    "plt.plot(x,y)\n",
    "plt.xlim(0,5)\n",
    "plt.title('Chart 3')\n",
    "plt.legend(['Result'])\n",
    "plt.xlabel('x')\n",
    "plt.ylabel('y')\n",
    "plt.grid(linestyle = '-')\n",
    "plt.show()"
   ]
  },
  {
   "cell_type": "markdown",
   "metadata": {},
   "source": [
    "EXERCISE 10"
   ]
  },
  {
   "cell_type": "code",
   "execution_count": 21,
   "metadata": {},
   "outputs": [],
   "source": [
    "def Q(m,v):\n",
    "    return m*v**2/2"
   ]
  },
  {
   "cell_type": "code",
   "execution_count": 22,
   "metadata": {},
   "outputs": [],
   "source": [
    "def Q_cal(m,v):\n",
    "    return m*v**2/2*4.1855"
   ]
  },
  {
   "cell_type": "code",
   "execution_count": 23,
   "metadata": {},
   "outputs": [],
   "source": [
    "m = 2.5                 #[kg]\n",
    "v = 60*1000/3600        #[m/s]"
   ]
  },
  {
   "cell_type": "code",
   "execution_count": 24,
   "metadata": {},
   "outputs": [
    {
     "name": "stdout",
     "output_type": "stream",
     "text": [
      "The amount of heat is 347.22 Joules, which is 1453.30 calories\n",
      "\n"
     ]
    }
   ],
   "source": [
    "print('The amount of heat is %.2f Joules, which is %.2f calories\\n' % (Q(m,v),Q_cal(m,v)))"
   ]
  },
  {
   "cell_type": "code",
   "execution_count": 25,
   "metadata": {},
   "outputs": [],
   "source": [
    "m = 3                   #[kg]"
   ]
  },
  {
   "cell_type": "code",
   "execution_count": 26,
   "metadata": {},
   "outputs": [],
   "source": [
    "v = np.linspace(0,200)  #[km/h]\n",
    "v = v*1000/3600         #scale to [m/s]"
   ]
  },
  {
   "cell_type": "code",
   "execution_count": 27,
   "metadata": {},
   "outputs": [
    {
     "data": {
      "image/png": "[encoded data removed]",
      "text/plain": [
       "<Figure size 432x288 with 1 Axes>"
      ]
     },
     "metadata": {
      "needs_background": "light"
     },
     "output_type": "display_data"
    }
   ],
   "source": [
    "fig = plt.figure()\n",
    "plt.plot(v,Q(m,v),v,Q_cal(m,v))\n",
    "plt.xlim((0,56))\n",
    "plt.title('Dependence of heat on velocity')\n",
    "plt.legend(['Joules','calories'])\n",
    "plt.xlabel('Velocity [m/s]')\n",
    "plt.ylabel('Heat')\n",
    "plt.grid(linestyle = '-')"
   ]
  },
  {
   "cell_type": "code",
   "execution_count": 28,
   "metadata": {},
   "outputs": [
    {
     "data": {
      "image/png": "[encoded data removed]",
      "text/plain": [
       "<Figure size 432x288 with 1 Axes>"
      ]
     },
     "metadata": {
      "needs_background": "light"
     },
     "output_type": "display_data"
    }
   ],
   "source": [
    "fig = plt.figure()\n",
    "plt.semilogy(v,Q(m,v),v,Q_cal(m,v))\n",
    "plt.xlim((0,56))\n",
    "plt.title('Dependence of heat on velocity')\n",
    "plt.legend(['Joules','calories'])\n",
    "plt.xlabel('Velocity [m/s]')\n",
    "plt.ylabel('Heat')\n",
    "plt.grid(linestyle = '-')"
   ]
  },
  {
   "cell_type": "markdown",
   "metadata": {},
   "source": [
    "EXERCISE 11"
   ]
  },
  {
   "cell_type": "code",
   "execution_count": 30,
   "metadata": {},
   "outputs": [
    {
     "name": "stdout",
     "output_type": "stream",
     "text": [
      "Quaternions:\n",
      "5 + 1i + -2j + 3k\n",
      "5 + 1i + 2j + 3k\n",
      "\n",
      "Result of addition:\n",
      "10 + 2i + 0j + 6k\n",
      "\n",
      "Result of subtraction:\n",
      "0 + 0i + -4j + 0k\n",
      "\n",
      "Result of multiplication:\n",
      "19 + -2i + 0j + 34k\n",
      "\n",
      "Result of division:\n",
      "0.7948717948717949 + 0.3076923076923077i + -0.5128205128205128j + -0.10256410256410259k\n",
      "\n",
      "Result of conjugation:\n",
      "0.1282051282051282 + -0.02564102564102564i + 0.05128205128205128j + -0.07692307692307693k\n",
      "\n",
      "Result of normalisation:\n",
      "0.8006407690254357 + 0.16012815380508713i + -0.32025630761017426j + 0.48038446141526137k\n",
      "\n"
     ]
    }
   ],
   "source": [
    "class Quaternion:\n",
    "    \n",
    "    def __init__(self,a,b,c,d):\n",
    "        self.a = a\n",
    "        self.b = b\n",
    "        self.c = c\n",
    "        self.d = d\n",
    "    \n",
    "    def __str__(self):\n",
    "        return '{0} + {1}i + {2}j + {3}k'.format(self.a, self.b, self.c,self.d)\n",
    "    \n",
    "    def __add__(self, q):\n",
    "        return Quaternion(self.a + q.a, self.b + q.b, self.c + q.c, self.d + q.d)\n",
    "    \n",
    "    def __sub__(self, q):\n",
    "        return Quaternion(self.a - q.a, self.b - q.b, self.c - q.c, self.d - q.d)\n",
    "    def __mul__(self, q):\n",
    "        return Quaternion(self.a*q.a - self.b*q.b - self.c*q.c - self.d*q.d, self.a*q.b + self.b*q.a + self.c*q.d - self.d*q.c, self.a*q.c - self.b*q.d + self.c*q.a + self.d*q.b, self.a*q.d + self.b*q.c - self.c*q.b + self.d*q.a)\n",
    "    \n",
    "    def conj(self):\n",
    "        return Quaternion(self.a/(self.a**2+self.b**2+self.c**2+self.d**2),(-self.b)/(self.a**2+self.b**2+self.c**2+self.d**2),(-self.c)/(self.a**2+self.b**2+self.c**2+self.d**2),(-self.d)/(self.a**2+self.b**2+self.c**2+self.d**2))\n",
    "    \n",
    "    def __truediv__(self, q):\n",
    "        return self*q.conj()\n",
    "    \n",
    "    def normalise(self):\n",
    "        n = math.sqrt(self.a*self.a + self.b*self.b + self.c*self.c + self.d*self.d)\n",
    "        self = Quaternion(self.a/n,self.b/n,self.c/n,self.d/n)\n",
    "        return self\n",
    "    \n",
    "Qex1 = Quaternion(5,1,-2,3)\n",
    "Qex2 = Quaternion(5,1,2,3)\n",
    "print('Quaternions:\\n%s\\n%s\\n' % (Qex1,Qex2))\n",
    "print('Result of addition:\\n%s\\n' % (Qex1+Qex2))\n",
    "print('Result of subtraction:\\n%s\\n' % (Qex1-Qex2))\n",
    "print('Result of multiplication:\\n%s\\n' % (Qex1*Qex2))\n",
    "print('Result of division:\\n%s\\n' % (Qex1/Qex2))\n",
    "print('Result of conjugation:\\n%s\\n' % Qex1.conj())\n",
    "print('Result of normalisation:\\n%s\\n' % Qex1.normalise())"
   ]
  }
 ],
 "metadata": {
  "kernelspec": {
   "display_name": "Python 3",
   "language": "python",
   "name": "python3"
  },
  "language_info": {
   "codemirror_mode": {
    "name": "ipython",
    "version": 3
   },
   "file_extension": ".py",
   "mimetype": "text/x-python",
   "name": "python",
   "nbconvert_exporter": "python",
   "pygments_lexer": "ipython3",
   "version": "3.7.4"
  }
 },
 "nbformat": 4,
 "nbformat_minor": 2
}
